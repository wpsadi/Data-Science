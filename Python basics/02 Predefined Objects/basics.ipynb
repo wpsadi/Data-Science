{
  "cells": [
    {
      "cell_type": "markdown",
      "metadata": {
        "id": "sqjsNah07fKH"
      },
      "source": [
        "Python is an object-oriented programming language, which means it deals with objects. Everything in Python is an object, including numbers, strings, lists, and even functions. Objects have attributes and methods associated with them.\n",
        "\n",
        "**Numbers:**\n",
        "\n",
        "Python supports various types of numbers, including integers, floating-point numbers, and complex numbers.\n",
        "\n",
        "- Integer:\n",
        "\n",
        "\n",
        "Represents integers (whole numbers)."
      ]
    },
    {
      "cell_type": "code",
      "execution_count": 1,
      "metadata": {
        "colab": {
          "base_uri": "https://localhost:8080/"
        },
        "id": "W07Yt5o27eSo",
        "outputId": "363d796d-82d9-4394-d34b-366836abf87a"
      },
      "outputs": [
        {
          "name": "stdout",
          "output_type": "stream",
          "text": [
            "42\n",
            "<class 'int'>\n"
          ]
        }
      ],
      "source": [
        "num_int = 42\n",
        "print(num_int)\n",
        "print(type(num_int))"
      ]
    },
    {
      "cell_type": "markdown",
      "metadata": {
        "id": "-7u9vgzE77gW"
      },
      "source": [
        "- Float"
      ]
    },
    {
      "cell_type": "code",
      "execution_count": 2,
      "metadata": {
        "colab": {
          "base_uri": "https://localhost:8080/"
        },
        "id": "ZONpB5eQ75eo",
        "outputId": "0c3d5163-f848-46d0-fa21-a2295e145052"
      },
      "outputs": [
        {
          "name": "stdout",
          "output_type": "stream",
          "text": [
            "3.14\n",
            "<class 'float'>\n"
          ]
        }
      ],
      "source": [
        "num_int_error = 3.14\n",
        "print(num_int_error)\n",
        "print(type(num_int_error))"
      ]
    },
    {
      "cell_type": "markdown",
      "metadata": {
        "id": "BSFnBVfnAgJp"
      },
      "source": [
        "- Complex"
      ]
    },
    {
      "cell_type": "code",
      "execution_count": 3,
      "metadata": {
        "colab": {
          "base_uri": "https://localhost:8080/"
        },
        "id": "YryT8h3_7_yZ",
        "outputId": "74fbe4ac-78fd-4ecf-e86b-eec08eb27bb8"
      },
      "outputs": [
        {
          "name": "stdout",
          "output_type": "stream",
          "text": [
            "(2+3j)\n",
            "<class 'complex'>\n"
          ]
        }
      ],
      "source": [
        "num_complex = 2 + 3j\n",
        "print(num_complex)  #\n",
        "print(type(num_complex))"
      ]
    },
    {
      "cell_type": "markdown",
      "metadata": {
        "id": "7mrjWT2smQ0E"
      },
      "source": [
        "**Bool**: Booleans represent truth values, either `True` or `False`.\n"
      ]
    },
    {
      "cell_type": "code",
      "execution_count": 4,
      "metadata": {
        "colab": {
          "base_uri": "https://localhost:8080/"
        },
        "id": "0FoVjTW7mKJ4",
        "outputId": "53698329-d048-4297-c03c-08301bd54c5c"
      },
      "outputs": [
        {
          "name": "stdout",
          "output_type": "stream",
          "text": [
            "True\n",
            "<class 'bool'>\n"
          ]
        }
      ],
      "source": [
        "bool_true = True\n",
        "print(bool_true)\n",
        "print(type(bool_true))\n"
      ]
    },
    {
      "cell_type": "code",
      "execution_count": 5,
      "metadata": {
        "colab": {
          "base_uri": "https://localhost:8080/"
        },
        "id": "c6eIjMdbmVme",
        "outputId": "e8a7fb9f-cebd-4462-b85e-a0309c592413"
      },
      "outputs": [
        {
          "name": "stdout",
          "output_type": "stream",
          "text": [
            "False\n",
            "<class 'bool'>\n"
          ]
        }
      ],
      "source": [
        "bool_false = False\n",
        "print(bool_false)\n",
        "print(type(bool_false))"
      ]
    },
    {
      "cell_type": "markdown",
      "metadata": {
        "id": "pNGUKTXOmho6"
      },
      "source": [
        "**Set**:\n",
        "\n",
        "A set is an unordered collection of unique elements. Sets are mutable, meaning they can be modified after creation, but they cannot contain duplicate elements."
      ]
    },
    {
      "cell_type": "code",
      "execution_count": 6,
      "metadata": {
        "colab": {
          "base_uri": "https://localhost:8080/"
        },
        "id": "bI_VWnypmc9Z",
        "outputId": "65fe0c8f-c930-4b26-fa7e-9db6bff6675b"
      },
      "outputs": [
        {
          "name": "stdout",
          "output_type": "stream",
          "text": [
            "{1, 2, 3, 4, 5}\n",
            "<class 'set'>\n"
          ]
        }
      ],
      "source": [
        "my_set = {1, 2, 3, 4, 5}\n",
        "print(my_set)\n",
        "print(type(my_set))"
      ]
    },
    {
      "cell_type": "code",
      "execution_count": 7,
      "metadata": {
        "colab": {
          "base_uri": "https://localhost:8080/"
        },
        "id": "F90wgK3hmnpa",
        "outputId": "01bddd53-7261-45d6-9e5a-bf9ad0667dbd"
      },
      "outputs": [
        {
          "name": "stdout",
          "output_type": "stream",
          "text": [
            "{'name': 'John', 'age': 25, 'city': 'New York'}\n",
            "<class 'dict'>\n"
          ]
        }
      ],
      "source": [
        "my_dict = {'name': 'John', 'age': 25, 'city': 'New York'}\n",
        "print(my_dict)\n",
        "print(type(my_dict))\n"
      ]
    },
    {
      "cell_type": "markdown",
      "metadata": {
        "id": "ffkaUzqlm1wq"
      },
      "source": [
        "**Sequence:**\n",
        "\n",
        "Strings in Python are sequences of characters enclosed in single, double, or triple quotes. They support various operations such as concatenation, slicing, and formatting."
      ]
    },
    {
      "cell_type": "code",
      "execution_count": 8,
      "metadata": {
        "colab": {
          "base_uri": "https://localhost:8080/"
        },
        "id": "prMtcJ5UmxGL",
        "outputId": "65ee6cdc-91ed-49de-eef4-08c92974c8ae"
      },
      "outputs": [
        {
          "name": "stdout",
          "output_type": "stream",
          "text": [
            "Hello, World!\n",
            "<class 'str'>\n"
          ]
        }
      ],
      "source": [
        "my_str = \"Hello, World!\"\n",
        "print(my_str)\n",
        "print(type(my_str))\n"
      ]
    },
    {
      "cell_type": "markdown",
      "metadata": {
        "id": "oBIjwNTjBGcs"
      },
      "source": [
        "**List**:\n",
        "\n",
        "A list is a versatile data structure used to store collections of items. Lists are mutable, meaning they can be modified after creation. Each item in a list is indexed, and you can access elements by their index. Lists can contain items of different data types, and they can also contain other lists (nested lists)."
      ]
    },
    {
      "cell_type": "code",
      "execution_count": 9,
      "metadata": {
        "colab": {
          "base_uri": "https://localhost:8080/"
        },
        "id": "qE3nTe5Om-Xq",
        "outputId": "177e0cd7-f1a5-4805-daeb-cc0e3531e14a"
      },
      "outputs": [
        {
          "name": "stdout",
          "output_type": "stream",
          "text": [
            "[1, 2, 3, 4, 5]\n",
            "<class 'list'>\n"
          ]
        }
      ],
      "source": [
        "my_list = [1, 2, 3, 4, 5]\n",
        "print(my_list)\n",
        "print(type(my_list))\n"
      ]
    },
    {
      "cell_type": "markdown",
      "metadata": {
        "id": "6oT9SbfrnH-r"
      },
      "source": [
        "**Tuple**:\n",
        "\n",
        "A tuple in Python is a collection of ordered and immutable elements. It is similar to a list, but unlike lists, tuples are immutable, meaning their elements cannot be changed after creation. Tuples are defined using parentheses () and can contain elements of different data types."
      ]
    },
    {
      "cell_type": "code",
      "execution_count": 10,
      "metadata": {
        "colab": {
          "base_uri": "https://localhost:8080/"
        },
        "id": "yS10BqrNnEpO",
        "outputId": "6d7a1c06-20a8-480e-dc41-4fffd06d52b5"
      },
      "outputs": [
        {
          "name": "stdout",
          "output_type": "stream",
          "text": [
            "(1, 'two', 3.0)\n",
            "<class 'tuple'>\n"
          ]
        }
      ],
      "source": [
        "my_tuple = (1, 'two', 3.0)\n",
        "print(my_tuple)\n",
        "print(type(my_tuple))\n"
      ]
    },
    {
      "cell_type": "markdown",
      "metadata": {
        "id": "hmzBpTgwnVae"
      },
      "source": [
        "**None**:\n",
        "\n",
        "`None` is a special constant representing the absence of a value or a null value. It is often used to indicate that a variable or an object does not have a meaningful value or has not been assigned yet."
      ]
    },
    {
      "cell_type": "code",
      "execution_count": 11,
      "metadata": {
        "colab": {
          "base_uri": "https://localhost:8080/"
        },
        "id": "0IJmk8L4nQXP",
        "outputId": "ff8ad3c4-8f1b-40c0-e01d-a8f7db91d738"
      },
      "outputs": [
        {
          "name": "stdout",
          "output_type": "stream",
          "text": [
            "None\n",
            "<class 'NoneType'>\n"
          ]
        }
      ],
      "source": [
        "my_none = None\n",
        "print(my_none)\n",
        "print(type(my_none))\n"
      ]
    }
  ],
  "metadata": {
    "colab": {
      "provenance": []
    },
    "kernelspec": {
      "display_name": "Python 3",
      "name": "python3"
    },
    "language_info": {
      "name": "python"
    }
  },
  "nbformat": 4,
  "nbformat_minor": 0
}
